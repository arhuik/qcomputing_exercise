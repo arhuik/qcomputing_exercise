{
 "cells": [
  {
   "cell_type": "code",
   "execution_count": 31,
   "metadata": {},
   "outputs": [],
   "source": [
    "from qiskit import *\n",
    "from qiskit.visualization import plot_bloch_multivector\n",
    "from qiskit.visualization import plot_histogram\n",
    "import numpy as np"
   ]
  },
  {
   "cell_type": "code",
   "execution_count": 47,
   "metadata": {},
   "outputs": [],
   "source": [
    "from qiskit import IBMQ"
   ]
  },
  {
   "cell_type": "code",
   "execution_count": 59,
   "metadata": {},
   "outputs": [],
   "source": [
    "from qiskit.tools.monitor import job_monitor"
   ]
  },
  {
   "cell_type": "code",
   "execution_count": 48,
   "metadata": {},
   "outputs": [
    {
     "name": "stderr",
     "output_type": "stream",
     "text": [
      "C:\\Users\\Pera.Datatykki\\anaconda3\\lib\\site-packages\\qiskit\\providers\\ibmq\\ibmqfactory.py:192: UserWarning: Timestamps in IBMQ backend properties, jobs, and job results are all now in local time instead of UTC.\n",
      "  warnings.warn('Timestamps in IBMQ backend properties, jobs, and job results '\n"
     ]
    },
    {
     "data": {
      "text/plain": [
       "<AccountProvider for IBMQ(hub='ibm-q', group='open', project='main')>"
      ]
     },
     "execution_count": 48,
     "metadata": {},
     "output_type": "execute_result"
    }
   ],
   "source": [
    "IBMQ.load_account()"
   ]
  },
  {
   "cell_type": "code",
   "execution_count": 49,
   "metadata": {},
   "outputs": [],
   "source": [
    "provider = IBMQ.get_provider('ibm-q')\n",
    "qcomp = provider.get_backend('ibmq_armonk')"
   ]
  },
  {
   "cell_type": "code",
   "execution_count": 32,
   "metadata": {},
   "outputs": [],
   "source": [
    "matplotlib inline"
   ]
  },
  {
   "cell_type": "code",
   "execution_count": 53,
   "metadata": {},
   "outputs": [],
   "source": [
    "theta = np.pi*(1/3)\n",
    "phi = np.pi*(1/3)"
   ]
  },
  {
   "cell_type": "code",
   "execution_count": 75,
   "metadata": {},
   "outputs": [
    {
     "data": {
      "image/png": "[encoded data removed]",
      "text/plain": [
       "<Figure size 374.326x144.48 with 1 Axes>"
      ]
     },
     "execution_count": 75,
     "metadata": {},
     "output_type": "execute_result"
    }
   ],
   "source": [
    "# Initial circuit with a rotation of pi-theta around the x axis and a rotation od phi around the z axis\n",
    "circuit = QuantumCircuit(1, 1)\n",
    "circuit.h(0)\n",
    "circuit.rz(np.pi-theta, 0)\n",
    "circuit.h(0)\n",
    "circuit.rz(phi, 0)\n",
    "circuit.measure(0, 0)\n",
    "\n",
    "circuit.draw(output='mpl')"
   ]
  },
  {
   "cell_type": "code",
   "execution_count": 76,
   "metadata": {},
   "outputs": [],
   "source": [
    "simulator = Aer.get_backend('qasm_simulator')"
   ]
  },
  {
   "cell_type": "code",
   "execution_count": 77,
   "metadata": {},
   "outputs": [
    {
     "name": "stdout",
     "output_type": "stream",
     "text": [
      "{'0': 249, '1': 751}\n"
     ]
    },
    {
     "data": {
      "image/png": "[encoded data removed]",
      "text/plain": [
       "<Figure size 504x360 with 1 Axes>"
      ]
     },
     "execution_count": 77,
     "metadata": {},
     "output_type": "execute_result"
    }
   ],
   "source": [
    "result = execute(circuit, backend = simulator, shots=1000).result()\n",
    "counts = result.get_counts()\n",
    "\n",
    "print(counts)\n",
    "plot_histogram(counts)"
   ]
  },
  {
   "cell_type": "code",
   "execution_count": 78,
   "metadata": {},
   "outputs": [
    {
     "name": "stdout",
     "output_type": "stream",
     "text": [
      "theta is approximately 1.044886606403912\n",
      "theta is approximately 0.3325977367593965π\n"
     ]
    }
   ],
   "source": [
    "n0 = counts.get('0')\n",
    "n1 = counts.get('1')\n",
    "p0 = n0/(n0+n1)\n",
    "p1 = n1/(n0+n1)\n",
    "print('theta is approximately ' + str(np.arcsin(np.sqrt(p0))*2)) # Equivalent: np.arccos(np.sqrt(p1))])\n",
    "print('theta is approximately ' + str(np.arcsin(np.sqrt(p0))*2/np.pi) + '\\u03C0')"
   ]
  },
  {
   "cell_type": "code",
   "execution_count": 58,
   "metadata": {},
   "outputs": [],
   "source": [
    "# With IBMQ:\n",
    "job = execute(circuit, backend=qcomp)"
   ]
  },
  {
   "cell_type": "code",
   "execution_count": 60,
   "metadata": {},
   "outputs": [
    {
     "name": "stdout",
     "output_type": "stream",
     "text": [
      "\r",
      "Job Status: job has successfully run\n"
     ]
    }
   ],
   "source": [
    "job_monitor(job)"
   ]
  },
  {
   "cell_type": "code",
   "execution_count": 62,
   "metadata": {},
   "outputs": [
    {
     "name": "stdout",
     "output_type": "stream",
     "text": [
      "{'0': 295, '1': 729}\n"
     ]
    },
    {
     "data": {
      "image/png": "[encoded data removed]",
      "text/plain": [
       "<Figure size 504x360 with 1 Axes>"
      ]
     },
     "execution_count": 62,
     "metadata": {},
     "output_type": "execute_result"
    }
   ],
   "source": [
    "result = job.result()\n",
    "counts = result.get_counts()\n",
    "\n",
    "print(counts)\n",
    "plot_histogram(counts)"
   ]
  },
  {
   "cell_type": "code",
   "execution_count": 63,
   "metadata": {},
   "outputs": [
    {
     "name": "stdout",
     "output_type": "stream",
     "text": [
      "theta is approximately 1.133128661242156\n",
      "theta is approximately 0.3606860551915818π\n"
     ]
    }
   ],
   "source": [
    "# Measuring theta with real calculation\n",
    "n0 = counts.get('0')\n",
    "n1 = counts.get('1')\n",
    "p0 = n0/(n0+n1)\n",
    "p1 = n1/(n0+n1)\n",
    "print('theta is approximately ' + str(np.arcsin(np.sqrt(p0))*2)) # Equivalent: np.arccos(np.sqrt(p1))])\n",
    "print('theta is approximately ' + str(np.arcsin(np.sqrt(p0))*2/np.pi) + '\\u03C0')"
   ]
  },
  {
   "cell_type": "code",
   "execution_count": 72,
   "metadata": {},
   "outputs": [
    {
     "data": {
      "image/png": "[encoded data removed]",
      "text/plain": [
       "<Figure size 494.726x144.48 with 1 Axes>"
      ]
     },
     "execution_count": 72,
     "metadata": {},
     "output_type": "execute_result"
    }
   ],
   "source": [
    "# Same circuit, measuring phi\n",
    "circuit = QuantumCircuit(1, 1)\n",
    "circuit.h(0)\n",
    "circuit.rz(np.pi-theta, 0)\n",
    "circuit.h(0)\n",
    "circuit.rz(phi, 0)\n",
    "circuit.h(0)\n",
    "circuit.measure(0, 0)\n",
    "circuit.h(0)\n",
    "\n",
    "circuit.draw(output='mpl')"
   ]
  },
  {
   "cell_type": "code",
   "execution_count": 73,
   "metadata": {},
   "outputs": [
    {
     "name": "stdout",
     "output_type": "stream",
     "text": [
      "{'0': 875, '1': 125}\n"
     ]
    },
    {
     "data": {
      "image/png": "[encoded data removed]",
      "text/plain": [
       "<Figure size 504x360 with 1 Axes>"
      ]
     },
     "execution_count": 73,
     "metadata": {},
     "output_type": "execute_result"
    }
   ],
   "source": [
    "result = execute(circuit, backend = simulator, shots=1000).result()\n",
    "counts = result.get_counts()\n",
    "\n",
    "print(counts)\n",
    "plot_histogram(counts)"
   ]
  },
  {
   "cell_type": "code",
   "execution_count": 74,
   "metadata": {},
   "outputs": [
    {
     "name": "stdout",
     "output_type": "stream",
     "text": [
      "[0.875, 0.125]\n",
      "0.7165063509461098\n",
      "0.2834936490538903\n"
     ]
    }
   ],
   "source": [
    "n0 = counts.get('0')\n",
    "n1 = counts.get('1')\n",
    "p0 = n0/(n0+n1)\n",
    "p1 = n1/(n0+n1)\n",
    "print([p0, p1])\n",
    "print(0.5*np.abs(np.sin(theta/2)+np.exp(phi*(0+1j))*np.cos(theta/2))**2) # = p0\n",
    "print(0.5*np.abs(np.sin(theta/2)-np.exp(phi*(0+1j))*np.cos(theta/2))**2) # = p1"
   ]
  },
  {
   "cell_type": "code",
   "execution_count": 79,
   "metadata": {},
   "outputs": [],
   "source": [
    "# With IBMQ:\n",
    "job = execute(circuit, backend=qcomp)"
   ]
  },
  {
   "cell_type": "code",
   "execution_count": 80,
   "metadata": {},
   "outputs": [
    {
     "name": "stdout",
     "output_type": "stream",
     "text": [
      "Job Status: job has successfully run\n"
     ]
    }
   ],
   "source": [
    "job_monitor(job)"
   ]
  },
  {
   "cell_type": "code",
   "execution_count": 81,
   "metadata": {},
   "outputs": [
    {
     "name": "stdout",
     "output_type": "stream",
     "text": [
      "{'0': 306, '1': 718}\n"
     ]
    },
    {
     "data": {
      "image/png": "[encoded data removed]",
      "text/plain": [
       "<Figure size 504x360 with 1 Axes>"
      ]
     },
     "execution_count": 81,
     "metadata": {},
     "output_type": "execute_result"
    }
   ],
   "source": [
    "result = job.result()\n",
    "counts = result.get_counts()\n",
    "\n",
    "print(counts)\n",
    "plot_histogram(counts)"
   ]
  },
  {
   "cell_type": "code",
   "execution_count": 82,
   "metadata": {},
   "outputs": [
    {
     "name": "stdout",
     "output_type": "stream",
     "text": [
      "[0.298828125, 0.701171875]\n",
      "0.7165063509461098\n",
      "0.2834936490538903\n"
     ]
    }
   ],
   "source": [
    "n0 = counts.get('0')\n",
    "n1 = counts.get('1')\n",
    "p0 = n0/(n0+n1)\n",
    "p1 = n1/(n0+n1)\n",
    "print([p0, p1])\n",
    "print(0.5*np.abs(np.sin(theta/2)+np.exp(phi*(0+1j))*np.cos(theta/2))**2) # = p0\n",
    "print(0.5*np.abs(np.sin(theta/2)-np.exp(phi*(0+1j))*np.cos(theta/2))**2) # = p1"
   ]
  },
  {
   "cell_type": "code",
   "execution_count": 83,
   "metadata": {},
   "outputs": [
    {
     "data": {
      "image/png": "[encoded data removed]",
      "text/plain": [
       "<Figure size 253.926x144.48 with 1 Axes>"
      ]
     },
     "execution_count": 83,
     "metadata": {},
     "output_type": "execute_result"
    }
   ],
   "source": [
    "# Second circuit with a U3 gate with the same angles as before\n",
    "circuit2 = QuantumCircuit(1, 1)\n",
    "circuit2.u(np.pi - theta, phi, 0, 0)\n",
    "circuit2.measure(0, 0)\n",
    "\n",
    "circuit2.draw(output='mpl')"
   ]
  },
  {
   "cell_type": "code",
   "execution_count": 84,
   "metadata": {},
   "outputs": [
    {
     "name": "stdout",
     "output_type": "stream",
     "text": [
      "{'0': 260, '1': 740}\n"
     ]
    },
    {
     "data": {
      "image/png": "[encoded data removed]",
      "text/plain": [
       "<Figure size 504x360 with 1 Axes>"
      ]
     },
     "execution_count": 84,
     "metadata": {},
     "output_type": "execute_result"
    }
   ],
   "source": [
    "result2 = execute(circuit2, backend = simulator, shots=1000).result()\n",
    "counts2 = result2.get_counts()\n",
    "\n",
    "print(counts2)\n",
    "plot_histogram(counts2)"
   ]
  },
  {
   "cell_type": "code",
   "execution_count": 85,
   "metadata": {},
   "outputs": [
    {
     "name": "stdout",
     "output_type": "stream",
     "text": [
      "theta is approximately 1.0701416143903084\n",
      "theta is approximately 0.3406366554771171π\n"
     ]
    }
   ],
   "source": [
    "n0 = counts2.get('0')\n",
    "n1 = counts2.get('1')\n",
    "p0 = n0/(n0+n1)\n",
    "p1 = n1/(n0+n1)\n",
    "print('theta is approximately ' + str(np.arcsin(np.sqrt(p0))*2)) # Equivalent: np.arccos(np.sqrt(p1))])\n",
    "print('theta is approximately ' + str(np.arcsin(np.sqrt(p0))*2/np.pi) + '\\u03C0')"
   ]
  },
  {
   "cell_type": "code",
   "execution_count": 86,
   "metadata": {},
   "outputs": [],
   "source": [
    "# With IBMQ:\n",
    "job2 = execute(circuit2, backend=qcomp)"
   ]
  },
  {
   "cell_type": "code",
   "execution_count": 88,
   "metadata": {},
   "outputs": [
    {
     "name": "stdout",
     "output_type": "stream",
     "text": [
      "Job Status: job has successfully run\n"
     ]
    }
   ],
   "source": [
    "job_monitor(job2)"
   ]
  },
  {
   "cell_type": "code",
   "execution_count": 89,
   "metadata": {},
   "outputs": [
    {
     "name": "stdout",
     "output_type": "stream",
     "text": [
      "{'0': 290, '1': 734}\n"
     ]
    },
    {
     "data": {
      "image/png": "[encoded data removed]",
      "text/plain": [
       "<Figure size 504x360 with 1 Axes>"
      ]
     },
     "execution_count": 89,
     "metadata": {},
     "output_type": "execute_result"
    }
   ],
   "source": [
    "result = job2.result()\n",
    "counts2 = result.get_counts()\n",
    "\n",
    "print(counts2)\n",
    "plot_histogram(counts2)"
   ]
  },
  {
   "cell_type": "code",
   "execution_count": 90,
   "metadata": {},
   "outputs": [
    {
     "name": "stdout",
     "output_type": "stream",
     "text": [
      "theta is approximately 1.122319214984851\n",
      "theta is approximately 0.35724530158370926π\n"
     ]
    }
   ],
   "source": [
    "n0 = counts2.get('0')\n",
    "n1 = counts2.get('1')\n",
    "p0 = n0/(n0+n1)\n",
    "p1 = n1/(n0+n1)\n",
    "print('theta is approximately ' + str(np.arcsin(np.sqrt(p0))*2)) # Equivalent: np.arccos(np.sqrt(p1))])\n",
    "print('theta is approximately ' + str(np.arcsin(np.sqrt(p0))*2/np.pi) + '\\u03C0')"
   ]
  },
  {
   "cell_type": "code",
   "execution_count": 100,
   "metadata": {},
   "outputs": [
    {
     "data": {
      "image/png": "[encoded data removed]",
      "text/plain": [
       "<Figure size 374.326x144.48 with 1 Axes>"
      ]
     },
     "execution_count": 100,
     "metadata": {},
     "output_type": "execute_result"
    }
   ],
   "source": [
    "# U3 circuit, measuring phi\n",
    "circuit2 = QuantumCircuit(1, 1)\n",
    "circuit2.u(np.pi - theta, phi, 0, 0)\n",
    "circuit2.h(0)\n",
    "circuit2.measure(0, 0)\n",
    "circuit2.h(0)\n",
    "\n",
    "circuit2.draw(output='mpl')"
   ]
  },
  {
   "cell_type": "code",
   "execution_count": 101,
   "metadata": {},
   "outputs": [
    {
     "name": "stdout",
     "output_type": "stream",
     "text": [
      "{'0': 715, '1': 285}\n"
     ]
    },
    {
     "data": {
      "image/png": "[encoded data removed]",
      "text/plain": [
       "<Figure size 504x360 with 1 Axes>"
      ]
     },
     "execution_count": 101,
     "metadata": {},
     "output_type": "execute_result"
    }
   ],
   "source": [
    "result2 = execute(circuit2, backend = simulator, shots=1000).result()\n",
    "counts2 = result2.get_counts()\n",
    "\n",
    "print(counts2)\n",
    "plot_histogram(counts2)"
   ]
  },
  {
   "cell_type": "code",
   "execution_count": 102,
   "metadata": {},
   "outputs": [
    {
     "name": "stdout",
     "output_type": "stream",
     "text": [
      "[0.715, 0.285]\n",
      "0.7165063509461098\n",
      "0.2834936490538903\n"
     ]
    }
   ],
   "source": [
    "n0 = counts2.get('0')\n",
    "n1 = counts2.get('1')\n",
    "p0 = n0/(n0+n1)\n",
    "p1 = n1/(n0+n1)\n",
    "print([p0, p1])\n",
    "print(0.5*np.abs(np.sin(theta/2)+np.exp(phi*(0+1j))*np.cos(theta/2))**2) # = p0\n",
    "print(0.5*np.abs(np.sin(theta/2)-np.exp(phi*(0+1j))*np.cos(theta/2))**2) # = p1"
   ]
  },
  {
   "cell_type": "code",
   "execution_count": 103,
   "metadata": {},
   "outputs": [],
   "source": [
    "# With IBMQ:\n",
    "job2 = execute(circuit2, backend=qcomp)"
   ]
  },
  {
   "cell_type": "code",
   "execution_count": 104,
   "metadata": {},
   "outputs": [
    {
     "name": "stdout",
     "output_type": "stream",
     "text": [
      "Job Status: job incurred error    \n"
     ]
    }
   ],
   "source": [
    "job_monitor(job2)"
   ]
  },
  {
   "cell_type": "code",
   "execution_count": null,
   "metadata": {},
   "outputs": [],
   "source": [
    "result = job2.result()\n",
    "counts2 = result.get_counts()\n",
    "\n",
    "print(counts2)\n",
    "plot_histogram(counts2)"
   ]
  },
  {
   "cell_type": "code",
   "execution_count": null,
   "metadata": {},
   "outputs": [],
   "source": [
    "n0 = counts2.get('0')\n",
    "n1 = counts2.get('1')\n",
    "p0 = n0/(n0+n1)\n",
    "p1 = n1/(n0+n1)\n",
    "print([p0, p1])\n",
    "print(0.5*np.abs(np.sin(theta/2)+np.exp(phi*(0+1j))*np.cos(theta/2))**2) # = p0\n",
    "print(0.5*np.abs(np.sin(theta/2)-np.exp(phi*(0+1j))*np.cos(theta/2))**2) # = p1"
   ]
  }
 ],
 "metadata": {
  "kernelspec": {
   "display_name": "Python 3",
   "language": "python",
   "name": "python3"
  },
  "language_info": {
   "codemirror_mode": {
    "name": "ipython",
    "version": 3
   },
   "file_extension": ".py",
   "mimetype": "text/x-python",
   "name": "python",
   "nbconvert_exporter": "python",
   "pygments_lexer": "ipython3",
   "version": "3.8.3"
  }
 },
 "nbformat": 4,
 "nbformat_minor": 4
}

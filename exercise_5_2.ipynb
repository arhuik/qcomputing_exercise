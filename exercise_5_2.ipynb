{
 "cells": [
  {
   "cell_type": "code",
   "execution_count": 112,
   "metadata": {},
   "outputs": [],
   "source": [
    "from qiskit import *\n",
    "from qiskit.visualization import plot_bloch_multivector\n",
    "from qiskit.visualization import plot_histogram\n",
    "from qiskit.quantum_info import Statevector\n",
    "from qiskit import IBMQ, BasicAer\n",
    "from qiskit.providers.ibmq import least_busy\n",
    "from qiskit import QuantumCircuit, execute\n",
    "import numpy as np"
   ]
  },
  {
   "cell_type": "code",
   "execution_count": 2,
   "metadata": {},
   "outputs": [],
   "source": [
    "matplotlib inline"
   ]
  },
  {
   "cell_type": "code",
   "execution_count": 3,
   "metadata": {},
   "outputs": [],
   "source": [
    "simulator = Aer.get_backend('qasm_simulator')"
   ]
  },
  {
   "cell_type": "code",
   "execution_count": 124,
   "metadata": {},
   "outputs": [],
   "source": [
    "# Calculating S from an array of the propabitioties\n",
    "def S(prob):\n",
    "    s = 0\n",
    "    for i in range(4):\n",
    "        if i == 1:\n",
    "            s -= prob[i][0] + prob[i][1] - prob[i][2] - prob[i][3]\n",
    "        else:\n",
    "            s += prob[i][0] + prob[i][1] - prob[i][2] - prob[i][3]\n",
    "    return s"
   ]
  },
  {
   "cell_type": "code",
   "execution_count": 114,
   "metadata": {},
   "outputs": [],
   "source": [
    "# preparing the rotation angles and choosing the bell state\n",
    "# i = 0 for the |00> + |11>, 1 for |00> - |11>, 2 for |01> + |10>, and 3 for |01> - |10> bell states.\n",
    "i = 0\n",
    "\n",
    "# j = 0 for (a,b), j = 1 for (a, b'), j = 2 for (a', b), j = 3 for (a', b')\n",
    "a = [-np.pi/4, -np.pi/4, np.pi/4, np.pi/4]\n",
    "b = [0, np.pi/2, 0, np.pi/2]"
   ]
  },
  {
   "cell_type": "code",
   "execution_count": 132,
   "metadata": {},
   "outputs": [
    {
     "data": {
      "image/png": "[encoded data removed]",
      "text/plain": [
       "<Figure size 568.052x204.68 with 1 Axes>"
      ]
     },
     "execution_count": 132,
     "metadata": {},
     "output_type": "execute_result"
    }
   ],
   "source": [
    "# CHSH\n",
    "circuit = QuantumCircuit(2, 2)\n",
    "\n",
    "# Defining the bell state\n",
    "if i == 1 or i == 3: circuit.x(0)\n",
    "if i >= 2: circuit.x(1)\n",
    "circuit.barrier()\n",
    "circuit.h(0)\n",
    "circuit.cx(0, 1)\n",
    "circuit.barrier()\n",
    "\n",
    "# Defining the rotation before the measurent\n",
    "j = 0\n",
    "circuit.rz(a[j], 0)\n",
    "circuit.rz(b[j], 1)\n",
    "circuit.barrier()\n",
    "\n",
    "# Measurement\n",
    "circuit.measure(0, 0)\n",
    "circuit.measure(1, 1)\n",
    "\n",
    "circuit.draw(output='mpl')"
   ]
  },
  {
   "cell_type": "code",
   "execution_count": 116,
   "metadata": {},
   "outputs": [
    {
     "name": "stdout",
     "output_type": "stream",
     "text": [
      "{'00': 487, '11': 513}\n",
      "[0.487 0.513 0.    0.   ]\n"
     ]
    }
   ],
   "source": [
    "result = execute(circuit, backend = simulator, shots=1000).result()\n",
    "counts = result.get_counts()\n",
    "\n",
    "print(counts)\n",
    "plot_histogram(counts)\n",
    "\n",
    "P = np.array([counts.get('00', 0), counts.get('11', 0), counts.get('10', 0), counts.get('01', 0)])\n",
    "P = P/np.sum(P)\n",
    "print(P)"
   ]
  },
  {
   "cell_type": "code",
   "execution_count": 136,
   "metadata": {},
   "outputs": [
    {
     "name": "stdout",
     "output_type": "stream",
     "text": [
      "[[0.528 0.472 0.    0.   ]\n",
      " [0.522 0.478 0.    0.   ]\n",
      " [0.499 0.501 0.    0.   ]\n",
      " [0.486 0.514 0.    0.   ]]\n",
      "S is 2.0\n"
     ]
    }
   ],
   "source": [
    "# Doing the simulation for each pair of angles and recording the results, calculating S\n",
    "P = np.zeros([4,4])\n",
    "for j in range(4):\n",
    "    circuit = QuantumCircuit(2, 2)\n",
    "\n",
    "    # Defining the bell state\n",
    "    if i == 1 or i == 3: circuit.x(0)\n",
    "    if i >= 2: circuit.x(1)\n",
    "    circuit.barrier()\n",
    "    circuit.h(0)\n",
    "    circuit.cx(0, 1)\n",
    "    circuit.barrier()\n",
    "\n",
    "    # Defining the rotation before the measurent\n",
    "    circuit.rz(a[j], 0)\n",
    "    circuit.rz(b[j], 1)\n",
    "    circuit.barrier()\n",
    "\n",
    "    # Measurement\n",
    "    circuit.measure(0, 0)\n",
    "    circuit.measure(1, 1)\n",
    "    circuit.barrier()\n",
    "    result = execute(circuit, backend = simulator, shots=1000).result()\n",
    "    counts = result.get_counts()\n",
    "\n",
    "    prob = np.array([counts.get('00', 0), counts.get('11', 0), counts.get('10', 0), counts.get('01', 0)])\n",
    "    P[j] = prob/np.sum(prob)\n",
    "print(P)\n",
    "print('S is ' + str(S(P)))"
   ]
  },
  {
   "cell_type": "code",
   "execution_count": 120,
   "metadata": {},
   "outputs": [],
   "source": [
    "# Load my saved IBMQ account\n",
    "# IBMQ.load_account()"
   ]
  },
  {
   "cell_type": "code",
   "execution_count": 127,
   "metadata": {},
   "outputs": [
    {
     "name": "stdout",
     "output_type": "stream",
     "text": [
      "least busy backend:  ibmq_ourense\n",
      "Job Status: job has successfully run\n",
      "least busy backend:  ibmq_ourense\n",
      "Job Status: job has successfully run\n",
      "least busy backend:  ibmqx2\n",
      "Job Status: job has successfully run\n",
      "least busy backend:  ibmqx2\n",
      "Job Status: job has successfully run\n",
      "[[0.453125   0.48828125 0.02929688 0.02929688]\n",
      " [0.47070312 0.45898438 0.02929688 0.04101562]\n",
      " [0.43359375 0.47070312 0.06640625 0.02929688]\n",
      " [0.4296875  0.4921875  0.05664062 0.02148438]]\n",
      "S is 1.67578125\n"
     ]
    }
   ],
   "source": [
    "# Doing the measurement for each pair of angles and recording the results, calculating S\n",
    "P = np.zeros([4,4])\n",
    "for j in range(4):\n",
    "    circuit = QuantumCircuit(2, 2)\n",
    "\n",
    "    # Defining the bell state\n",
    "    if i == 1 or i == 3: circuit.x(0)\n",
    "    if i >= 2: circuit.x(1)\n",
    "    circuit.barrier()\n",
    "    circuit.h(0)\n",
    "    circuit.cx(0, 1)\n",
    "    circuit.barrier()\n",
    "\n",
    "    # Defining the rotation before the measurent\n",
    "    circuit.rz(a[j], 0)\n",
    "    circuit.rz(b[j], 1)\n",
    "    circuit.barrier()\n",
    "\n",
    "    # Measurement\n",
    "    circuit.measure(0, 0)\n",
    "    circuit.measure(1, 1)\n",
    "    \n",
    "    # Get the least busy backend device with more than or equal to 2 qubits\n",
    "    provider = IBMQ.get_provider(hub='ibm-q')\n",
    "    backend = least_busy(provider.backends(filters=lambda x: x.configuration().n_qubits >= 2 and \n",
    "                                       not x.configuration().simulator and x.status().operational==True))\n",
    "    print(\"least busy backend: \", backend)\n",
    "\n",
    "    # Execute and monitor the job\n",
    "    from qiskit.tools.monitor import job_monitor\n",
    "    #shots = 1024\n",
    "    shots = 512\n",
    "    job = execute(circuit, backend=backend, shots=shots, optimization_level=3)\n",
    "    job_monitor(job, interval = 2)\n",
    "\n",
    "    # Get results\n",
    "    counts = job.result().get_counts()\n",
    "\n",
    "    prob = np.array([counts.get('00', 0), counts.get('11', 0), counts.get('10', 0), counts.get('01', 0)])\n",
    "    P[j] = prob/np.sum(prob)\n",
    "print(P)\n",
    "print('S is ' + str(S(P)))"
   ]
  },
  {
   "cell_type": "code",
   "execution_count": null,
   "metadata": {},
   "outputs": [],
   "source": []
  }
 ],
 "metadata": {
  "kernelspec": {
   "display_name": "Python 3",
   "language": "python",
   "name": "python3"
  },
  "language_info": {
   "codemirror_mode": {
    "name": "ipython",
    "version": 3
   },
   "file_extension": ".py",
   "mimetype": "text/x-python",
   "name": "python",
   "nbconvert_exporter": "python",
   "pygments_lexer": "ipython3",
   "version": "3.8.3"
  }
 },
 "nbformat": 4,
 "nbformat_minor": 4
}
